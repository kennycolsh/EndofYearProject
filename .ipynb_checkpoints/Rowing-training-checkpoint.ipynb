{
 "cells": [
  {
   "cell_type": "markdown",
   "metadata": {},
   "source": [
    "# Rowing training\n",
    "## To investigate how training commitments effect your time on the Rowing Machine (ergo)\n",
    "\n",
    "### We will simulate data to show how three oarpeople attend training over the course of a year.\n",
    "### the data points we plan on collecting are :\n",
    "\n",
    "####  Attendance (per week 1-6 days), age (13,15), Heigh, Month, Ergo-Rating)\n",
    "\n"
   ]
  },
  {
   "cell_type": "markdown",
   "metadata": {},
   "source": [
    "# Gathering the Data.\n",
    "\n",
    "\n",
    "## We plan to generate the data using numpy.\n",
    "## We will have 52 data points for three different Rowing-numbers (156 datapoints in total)\n",
    "\n"
   ]
  },
  {
   "cell_type": "markdown",
   "metadata": {},
   "source": [
    "# What we hope to find.\n",
    "## The goal is to see if we can predict the Erogo-Rate and create an mock up dataset.\n"
   ]
  },
  {
   "cell_type": "code",
   "execution_count": 68,
   "metadata": {},
   "outputs": [],
   "source": [
    "#%matplotlib inline"
   ]
  },
  {
   "cell_type": "markdown",
   "metadata": {},
   "source": [
    "## Referances\n",
    "#### https://docs.scipy.org/doc/numpy-1.15.1/reference/routines.random.html\n",
    "#### https://machinelearningmastery.com/how-to-generate-random-numbers-in-python/\n",
    "#### https://www.datacamp.com/community/tutorials/python-numpy-tutorial\n"
   ]
  },
  {
   "cell_type": "code",
   "execution_count": 69,
   "metadata": {},
   "outputs": [],
   "source": [
    "#import matplotlib.pyplot as plt\n",
    "import numpy as np\n",
    "#import scipy.stats as ss\n",
    "#import seaborn as sns\n",
    "#from numpy.random import seed\n",
    "import pandas as pd\n",
    "from numpy.random import randint\n",
    "# For preprocessing data.\n",
    "import sklearn.preprocessing as pre\n",
    "# For splitting data sets.\n",
    "import sklearn.model_selection as mod\n",
    "# For whitening.\n",
    "import sklearn.decomposition as dec\n",
    "# For neural networks.\n",
    "import keras as kr\n"
   ]
  },
  {
   "cell_type": "markdown",
   "metadata": {},
   "source": [
    "### sample size of 3 people\n",
    "### no of samples I do the sample 52 times ie each week"
   ]
  },
  {
   "cell_type": "markdown",
   "metadata": {
    "scrolled": true
   },
   "source": [
    "## Here I generated the Month data"
   ]
  },
  {
   "cell_type": "code",
   "execution_count": 70,
   "metadata": {},
   "outputs": [
    {
     "data": {
      "text/plain": [
       "array([ 0.,  1.,  2.,  3.,  4.,  5.,  6.,  7.,  8.,  9., 10., 11., 12.,\n",
       "       13., 14., 15., 16., 17., 18., 19., 20., 21., 22., 23., 24., 25.,\n",
       "       26., 27., 28., 29., 30., 31., 32., 33., 34., 35., 36., 37., 38.,\n",
       "       39., 40., 41., 42., 43., 44., 45., 46., 47., 48., 49., 50., 51.,\n",
       "        0.,  1.,  2.,  3.,  4.,  5.,  6.,  7.,  8.,  9., 10., 11., 12.,\n",
       "       13., 14., 15., 16., 17., 18., 19., 20., 21., 22., 23., 24., 25.,\n",
       "       26., 27., 28., 29., 30., 31., 32., 33., 34., 35., 36., 37., 38.,\n",
       "       39., 40., 41., 42., 43., 44., 45., 46., 47., 48., 49., 50., 51.,\n",
       "        0.,  1.,  2.,  3.,  4.,  5.,  6.,  7.,  8.,  9., 10., 11., 12.,\n",
       "       13., 14., 15., 16., 17., 18., 19., 20., 21., 22., 23., 24., 25.,\n",
       "       26., 27., 28., 29., 30., 31., 32., 33., 34., 35., 36., 37., 38.,\n",
       "       39., 40., 41., 42., 43., 44., 45., 46., 47., 48., 49., 50., 51.],\n",
       "      dtype=float32)"
      ]
     },
     "execution_count": 70,
     "metadata": {},
     "output_type": "execute_result"
    }
   ],
   "source": [
    "sequence = [i for i in range(52)]*3\n",
    "month = np.asarray(sequence, dtype=np.float32)\n",
    "month"
   ]
  },
  {
   "cell_type": "markdown",
   "metadata": {},
   "source": [
    "## Here I generated the attendance data, I used randint and passed it the required variables. "
   ]
  },
  {
   "cell_type": "code",
   "execution_count": 71,
   "metadata": {},
   "outputs": [
    {
     "data": {
      "text/plain": [
       "array([6, 2, 2, 5, 1, 1, 4, 5, 1, 3, 6, 3, 5, 1, 5, 5, 4, 2, 4, 2, 2, 5,\n",
       "       6, 3, 4, 4, 5, 5, 6, 2, 5, 3, 3, 5, 6, 4, 6, 3, 6, 5, 6, 4, 4, 4,\n",
       "       1, 4, 2, 4, 3, 4, 6, 1, 2, 1, 4, 3, 2, 1, 1, 6, 6, 4, 6, 3, 6, 4,\n",
       "       4, 3, 4, 2, 6, 3, 1, 1, 3, 4, 4, 5, 5, 1, 6, 6, 3, 1, 3, 5, 4, 5,\n",
       "       5, 1, 5, 1, 5, 6, 4, 3, 1, 5, 4, 2, 3, 3, 2, 4, 4, 5, 2, 1, 5, 1,\n",
       "       6, 5, 1, 1, 1, 2, 5, 4, 2, 1, 4, 3, 1, 2, 3, 4, 2, 1, 1, 4, 6, 5,\n",
       "       6, 3, 5, 5, 6, 5, 2, 1, 5, 3, 5, 2, 1, 3, 5, 5, 1, 5, 1, 5, 3, 3,\n",
       "       2, 2])"
      ]
     },
     "execution_count": 71,
     "metadata": {},
     "output_type": "execute_result"
    }
   ],
   "source": [
    "attend = randint(1, 7, 156)\n",
    "attend"
   ]
  },
  {
   "cell_type": "markdown",
   "metadata": {},
   "source": [
    "## Here I created the age array and repeated it by 53 to get the required amount for the dataset"
   ]
  },
  {
   "cell_type": "code",
   "execution_count": 72,
   "metadata": {},
   "outputs": [
    {
     "data": {
      "text/plain": [
       "array([14, 15, 15])"
      ]
     },
     "execution_count": 72,
     "metadata": {},
     "output_type": "execute_result"
    }
   ],
   "source": [
    "a = randint(13, 16, 3)\n",
    "a"
   ]
  },
  {
   "cell_type": "code",
   "execution_count": 73,
   "metadata": {
    "scrolled": true
   },
   "outputs": [
    {
     "data": {
      "text/plain": [
       "array([14, 14, 14, 14, 14, 14, 14, 14, 14, 14, 14, 14, 14, 14, 14, 14, 14,\n",
       "       14, 14, 14, 14, 14, 14, 14, 14, 14, 14, 14, 14, 14, 14, 14, 14, 14,\n",
       "       14, 14, 14, 14, 14, 14, 14, 14, 14, 14, 14, 14, 14, 14, 14, 14, 14,\n",
       "       14, 15, 15, 15, 15, 15, 15, 15, 15, 15, 15, 15, 15, 15, 15, 15, 15,\n",
       "       15, 15, 15, 15, 15, 15, 15, 15, 15, 15, 15, 15, 15, 15, 15, 15, 15,\n",
       "       15, 15, 15, 15, 15, 15, 15, 15, 15, 15, 15, 15, 15, 15, 15, 15, 15,\n",
       "       15, 15, 15, 15, 15, 15, 15, 15, 15, 15, 15, 15, 15, 15, 15, 15, 15,\n",
       "       15, 15, 15, 15, 15, 15, 15, 15, 15, 15, 15, 15, 15, 15, 15, 15, 15,\n",
       "       15, 15, 15, 15, 15, 15, 15, 15, 15, 15, 15, 15, 15, 15, 15, 15, 15,\n",
       "       15, 15, 15])"
      ]
     },
     "execution_count": 73,
     "metadata": {},
     "output_type": "execute_result"
    }
   ],
   "source": [
    "age =np.repeat(a,52)\n",
    "age"
   ]
  },
  {
   "cell_type": "markdown",
   "metadata": {},
   "source": [
    "## The height generation was similar to age only we used the random.uniform and again repeated it  by 52 to get the required size for the dataset"
   ]
  },
  {
   "cell_type": "code",
   "execution_count": 74,
   "metadata": {},
   "outputs": [
    {
     "data": {
      "text/plain": [
       "array([5.34, 5.3 , 5.49])"
      ]
     },
     "execution_count": 74,
     "metadata": {},
     "output_type": "execute_result"
    }
   ],
   "source": [
    "height1 = np.random.uniform(low=5.0, high=6.1, size=(3,)) \n",
    "x= np.round(height1, 2)\n",
    "x"
   ]
  },
  {
   "cell_type": "code",
   "execution_count": 75,
   "metadata": {
    "scrolled": true
   },
   "outputs": [
    {
     "data": {
      "text/plain": [
       "array([5.34, 5.34, 5.34, 5.34, 5.34, 5.34, 5.34, 5.34, 5.34, 5.34, 5.34,\n",
       "       5.34, 5.34, 5.34, 5.34, 5.34, 5.34, 5.34, 5.34, 5.34, 5.34, 5.34,\n",
       "       5.34, 5.34, 5.34, 5.34, 5.34, 5.34, 5.34, 5.34, 5.34, 5.34, 5.34,\n",
       "       5.34, 5.34, 5.34, 5.34, 5.34, 5.34, 5.34, 5.34, 5.34, 5.34, 5.34,\n",
       "       5.34, 5.34, 5.34, 5.34, 5.34, 5.34, 5.34, 5.34, 5.3 , 5.3 , 5.3 ,\n",
       "       5.3 , 5.3 , 5.3 , 5.3 , 5.3 , 5.3 , 5.3 , 5.3 , 5.3 , 5.3 , 5.3 ,\n",
       "       5.3 , 5.3 , 5.3 , 5.3 , 5.3 , 5.3 , 5.3 , 5.3 , 5.3 , 5.3 , 5.3 ,\n",
       "       5.3 , 5.3 , 5.3 , 5.3 , 5.3 , 5.3 , 5.3 , 5.3 , 5.3 , 5.3 , 5.3 ,\n",
       "       5.3 , 5.3 , 5.3 , 5.3 , 5.3 , 5.3 , 5.3 , 5.3 , 5.3 , 5.3 , 5.3 ,\n",
       "       5.3 , 5.3 , 5.3 , 5.3 , 5.3 , 5.49, 5.49, 5.49, 5.49, 5.49, 5.49,\n",
       "       5.49, 5.49, 5.49, 5.49, 5.49, 5.49, 5.49, 5.49, 5.49, 5.49, 5.49,\n",
       "       5.49, 5.49, 5.49, 5.49, 5.49, 5.49, 5.49, 5.49, 5.49, 5.49, 5.49,\n",
       "       5.49, 5.49, 5.49, 5.49, 5.49, 5.49, 5.49, 5.49, 5.49, 5.49, 5.49,\n",
       "       5.49, 5.49, 5.49, 5.49, 5.49, 5.49, 5.49, 5.49, 5.49, 5.49, 5.49,\n",
       "       5.49, 5.49])"
      ]
     },
     "execution_count": 75,
     "metadata": {},
     "output_type": "execute_result"
    }
   ],
   "source": [
    "height =np.repeat(x,52)\n",
    "height"
   ]
  },
  {
   "cell_type": "markdown",
   "metadata": {},
   "source": [
    "## Add the np.arrays to a Dataframe"
   ]
  },
  {
   "cell_type": "code",
   "execution_count": 76,
   "metadata": {},
   "outputs": [
    {
     "data": {
      "text/plain": [
       "numpy.ndarray"
      ]
     },
     "execution_count": 76,
     "metadata": {},
     "output_type": "execute_result"
    }
   ],
   "source": [
    "setAsDataFrame =np.column_stack([month,attend,height,age])\n",
    "type(setAsDataFrame)"
   ]
  },
  {
   "cell_type": "code",
   "execution_count": 77,
   "metadata": {
    "scrolled": true
   },
   "outputs": [
    {
     "data": {
      "text/html": [
       "<div>\n",
       "<style scoped>\n",
       "    .dataframe tbody tr th:only-of-type {\n",
       "        vertical-align: middle;\n",
       "    }\n",
       "\n",
       "    .dataframe tbody tr th {\n",
       "        vertical-align: top;\n",
       "    }\n",
       "\n",
       "    .dataframe thead th {\n",
       "        text-align: right;\n",
       "    }\n",
       "</style>\n",
       "<table border=\"1\" class=\"dataframe\">\n",
       "  <thead>\n",
       "    <tr style=\"text-align: right;\">\n",
       "      <th></th>\n",
       "      <th>month</th>\n",
       "      <th>Attend</th>\n",
       "      <th>height</th>\n",
       "      <th>age</th>\n",
       "    </tr>\n",
       "  </thead>\n",
       "  <tbody>\n",
       "    <tr>\n",
       "      <th>0</th>\n",
       "      <td>0.0</td>\n",
       "      <td>6.0</td>\n",
       "      <td>5.34</td>\n",
       "      <td>14.0</td>\n",
       "    </tr>\n",
       "    <tr>\n",
       "      <th>1</th>\n",
       "      <td>1.0</td>\n",
       "      <td>2.0</td>\n",
       "      <td>5.34</td>\n",
       "      <td>14.0</td>\n",
       "    </tr>\n",
       "    <tr>\n",
       "      <th>2</th>\n",
       "      <td>2.0</td>\n",
       "      <td>2.0</td>\n",
       "      <td>5.34</td>\n",
       "      <td>14.0</td>\n",
       "    </tr>\n",
       "    <tr>\n",
       "      <th>3</th>\n",
       "      <td>3.0</td>\n",
       "      <td>5.0</td>\n",
       "      <td>5.34</td>\n",
       "      <td>14.0</td>\n",
       "    </tr>\n",
       "    <tr>\n",
       "      <th>4</th>\n",
       "      <td>4.0</td>\n",
       "      <td>1.0</td>\n",
       "      <td>5.34</td>\n",
       "      <td>14.0</td>\n",
       "    </tr>\n",
       "    <tr>\n",
       "      <th>...</th>\n",
       "      <td>...</td>\n",
       "      <td>...</td>\n",
       "      <td>...</td>\n",
       "      <td>...</td>\n",
       "    </tr>\n",
       "    <tr>\n",
       "      <th>151</th>\n",
       "      <td>47.0</td>\n",
       "      <td>5.0</td>\n",
       "      <td>5.49</td>\n",
       "      <td>15.0</td>\n",
       "    </tr>\n",
       "    <tr>\n",
       "      <th>152</th>\n",
       "      <td>48.0</td>\n",
       "      <td>3.0</td>\n",
       "      <td>5.49</td>\n",
       "      <td>15.0</td>\n",
       "    </tr>\n",
       "    <tr>\n",
       "      <th>153</th>\n",
       "      <td>49.0</td>\n",
       "      <td>3.0</td>\n",
       "      <td>5.49</td>\n",
       "      <td>15.0</td>\n",
       "    </tr>\n",
       "    <tr>\n",
       "      <th>154</th>\n",
       "      <td>50.0</td>\n",
       "      <td>2.0</td>\n",
       "      <td>5.49</td>\n",
       "      <td>15.0</td>\n",
       "    </tr>\n",
       "    <tr>\n",
       "      <th>155</th>\n",
       "      <td>51.0</td>\n",
       "      <td>2.0</td>\n",
       "      <td>5.49</td>\n",
       "      <td>15.0</td>\n",
       "    </tr>\n",
       "  </tbody>\n",
       "</table>\n",
       "<p>156 rows × 4 columns</p>\n",
       "</div>"
      ],
      "text/plain": [
       "     month  Attend  height   age\n",
       "0      0.0     6.0    5.34  14.0\n",
       "1      1.0     2.0    5.34  14.0\n",
       "2      2.0     2.0    5.34  14.0\n",
       "3      3.0     5.0    5.34  14.0\n",
       "4      4.0     1.0    5.34  14.0\n",
       "..     ...     ...     ...   ...\n",
       "151   47.0     5.0    5.49  15.0\n",
       "152   48.0     3.0    5.49  15.0\n",
       "153   49.0     3.0    5.49  15.0\n",
       "154   50.0     2.0    5.49  15.0\n",
       "155   51.0     2.0    5.49  15.0\n",
       "\n",
       "[156 rows x 4 columns]"
      ]
     },
     "execution_count": 77,
     "metadata": {},
     "output_type": "execute_result"
    }
   ],
   "source": [
    "df = pd.DataFrame({'month': setAsDataFrame[:, 0], 'Attend': setAsDataFrame[:, 1], 'height': setAsDataFrame[:, 2], 'age': setAsDataFrame[:, 3]})\n",
    "\n",
    "df"
   ]
  },
  {
   "cell_type": "markdown",
   "metadata": {},
   "source": [
    "## Ref https://stackoverflow.com/questions/43391591/if-else-function-in-pandas-dataframe\n",
    "## Ref https://data36.com/python-nested-loops-if-statements-combined-data-sciene/\n",
    "\n",
    "### trying to get the ergo-rateing"
   ]
  },
  {
   "cell_type": "markdown",
   "metadata": {},
   "source": [
    "## Using a for loop to itteriate over the dataframe.attend to check the value and assign the required string to the correct value."
   ]
  },
  {
   "cell_type": "code",
   "execution_count": 78,
   "metadata": {},
   "outputs": [
    {
     "data": {
      "text/plain": [
       "array([4., 2., 2., 4., 1., 1., 3., 4., 1., 2., 4., 2., 4., 1., 4., 4., 3.,\n",
       "       2., 3., 2., 2., 4., 4., 2., 3., 3., 4., 4., 4., 2., 4., 2., 2., 4.,\n",
       "       4., 3., 4., 2., 4., 4., 4., 3., 3., 3., 1., 3., 2., 3., 2., 3., 4.,\n",
       "       1., 2., 1., 3., 2., 2., 1., 1., 4., 4., 3., 4., 2., 4., 3., 3., 2.,\n",
       "       3., 2., 4., 2., 1., 1., 2., 3., 3., 4., 4., 1., 4., 4., 2., 1., 2.,\n",
       "       4., 3., 4., 4., 1., 4., 1., 4., 4., 3., 2., 1., 4., 3., 2., 2., 2.,\n",
       "       2., 3., 3., 4., 2., 1., 4., 1., 4., 4., 1., 1., 1., 2., 4., 3., 2.,\n",
       "       1., 3., 2., 1., 2., 2., 3., 2., 1., 1., 3., 4., 4., 4., 2., 4., 4.,\n",
       "       4., 4., 2., 1., 4., 2., 4., 2., 1., 2., 4., 4., 1., 4., 1., 4., 2.,\n",
       "       2., 2., 2.])"
      ]
     },
     "execution_count": 78,
     "metadata": {},
     "output_type": "execute_result"
    }
   ],
   "source": [
    "## TODO add more clauses to the i<2 etc \n",
    "ergoRate = np.array([])\n",
    "for i in df.Attend:\n",
    "    if i  < 2 :\n",
    "        ergoRate =np.append(ergoRate,1)\n",
    "    elif i <= 3 :\n",
    "        ergoRate =np.append(ergoRate, 2)\n",
    "    elif i <= 4:\n",
    "        ergoRate =np.append(ergoRate, 3)\n",
    "    else:\n",
    "        ergoRate =np.append(ergoRate, 4)\n",
    "(ergoRate)"
   ]
  },
  {
   "cell_type": "markdown",
   "metadata": {},
   "source": [
    "## Add the new \"ergorate\" to the dataframe"
   ]
  },
  {
   "cell_type": "code",
   "execution_count": 79,
   "metadata": {},
   "outputs": [
    {
     "data": {
      "text/plain": [
       "numpy.ndarray"
      ]
     },
     "execution_count": 79,
     "metadata": {},
     "output_type": "execute_result"
    }
   ],
   "source": [
    "setAsDataFrame =np.column_stack([month,attend,height,age,ergoRate])\n",
    "type(setAsDataFrame)"
   ]
  },
  {
   "cell_type": "code",
   "execution_count": 80,
   "metadata": {
    "scrolled": true
   },
   "outputs": [
    {
     "data": {
      "text/html": [
       "<div>\n",
       "<style scoped>\n",
       "    .dataframe tbody tr th:only-of-type {\n",
       "        vertical-align: middle;\n",
       "    }\n",
       "\n",
       "    .dataframe tbody tr th {\n",
       "        vertical-align: top;\n",
       "    }\n",
       "\n",
       "    .dataframe thead th {\n",
       "        text-align: right;\n",
       "    }\n",
       "</style>\n",
       "<table border=\"1\" class=\"dataframe\">\n",
       "  <thead>\n",
       "    <tr style=\"text-align: right;\">\n",
       "      <th></th>\n",
       "      <th>month</th>\n",
       "      <th>Attend</th>\n",
       "      <th>height</th>\n",
       "      <th>age</th>\n",
       "      <th>ergorate</th>\n",
       "    </tr>\n",
       "  </thead>\n",
       "  <tbody>\n",
       "    <tr>\n",
       "      <th>0</th>\n",
       "      <td>0.0</td>\n",
       "      <td>6.0</td>\n",
       "      <td>5.34</td>\n",
       "      <td>14.0</td>\n",
       "      <td>4.0</td>\n",
       "    </tr>\n",
       "    <tr>\n",
       "      <th>1</th>\n",
       "      <td>1.0</td>\n",
       "      <td>2.0</td>\n",
       "      <td>5.34</td>\n",
       "      <td>14.0</td>\n",
       "      <td>2.0</td>\n",
       "    </tr>\n",
       "    <tr>\n",
       "      <th>2</th>\n",
       "      <td>2.0</td>\n",
       "      <td>2.0</td>\n",
       "      <td>5.34</td>\n",
       "      <td>14.0</td>\n",
       "      <td>2.0</td>\n",
       "    </tr>\n",
       "    <tr>\n",
       "      <th>3</th>\n",
       "      <td>3.0</td>\n",
       "      <td>5.0</td>\n",
       "      <td>5.34</td>\n",
       "      <td>14.0</td>\n",
       "      <td>4.0</td>\n",
       "    </tr>\n",
       "    <tr>\n",
       "      <th>4</th>\n",
       "      <td>4.0</td>\n",
       "      <td>1.0</td>\n",
       "      <td>5.34</td>\n",
       "      <td>14.0</td>\n",
       "      <td>1.0</td>\n",
       "    </tr>\n",
       "    <tr>\n",
       "      <th>...</th>\n",
       "      <td>...</td>\n",
       "      <td>...</td>\n",
       "      <td>...</td>\n",
       "      <td>...</td>\n",
       "      <td>...</td>\n",
       "    </tr>\n",
       "    <tr>\n",
       "      <th>151</th>\n",
       "      <td>47.0</td>\n",
       "      <td>5.0</td>\n",
       "      <td>5.49</td>\n",
       "      <td>15.0</td>\n",
       "      <td>4.0</td>\n",
       "    </tr>\n",
       "    <tr>\n",
       "      <th>152</th>\n",
       "      <td>48.0</td>\n",
       "      <td>3.0</td>\n",
       "      <td>5.49</td>\n",
       "      <td>15.0</td>\n",
       "      <td>2.0</td>\n",
       "    </tr>\n",
       "    <tr>\n",
       "      <th>153</th>\n",
       "      <td>49.0</td>\n",
       "      <td>3.0</td>\n",
       "      <td>5.49</td>\n",
       "      <td>15.0</td>\n",
       "      <td>2.0</td>\n",
       "    </tr>\n",
       "    <tr>\n",
       "      <th>154</th>\n",
       "      <td>50.0</td>\n",
       "      <td>2.0</td>\n",
       "      <td>5.49</td>\n",
       "      <td>15.0</td>\n",
       "      <td>2.0</td>\n",
       "    </tr>\n",
       "    <tr>\n",
       "      <th>155</th>\n",
       "      <td>51.0</td>\n",
       "      <td>2.0</td>\n",
       "      <td>5.49</td>\n",
       "      <td>15.0</td>\n",
       "      <td>2.0</td>\n",
       "    </tr>\n",
       "  </tbody>\n",
       "</table>\n",
       "<p>156 rows × 5 columns</p>\n",
       "</div>"
      ],
      "text/plain": [
       "     month  Attend  height   age  ergorate\n",
       "0      0.0     6.0    5.34  14.0       4.0\n",
       "1      1.0     2.0    5.34  14.0       2.0\n",
       "2      2.0     2.0    5.34  14.0       2.0\n",
       "3      3.0     5.0    5.34  14.0       4.0\n",
       "4      4.0     1.0    5.34  14.0       1.0\n",
       "..     ...     ...     ...   ...       ...\n",
       "151   47.0     5.0    5.49  15.0       4.0\n",
       "152   48.0     3.0    5.49  15.0       2.0\n",
       "153   49.0     3.0    5.49  15.0       2.0\n",
       "154   50.0     2.0    5.49  15.0       2.0\n",
       "155   51.0     2.0    5.49  15.0       2.0\n",
       "\n",
       "[156 rows x 5 columns]"
      ]
     },
     "execution_count": 80,
     "metadata": {},
     "output_type": "execute_result"
    }
   ],
   "source": [
    "df = pd.DataFrame({'month': setAsDataFrame[:, 0], 'Attend': setAsDataFrame[:, 1], 'height': setAsDataFrame[:, 2], 'age': setAsDataFrame[:, 3], 'ergorate': setAsDataFrame[:, 4]})\n",
    "\n",
    "df"
   ]
  },
  {
   "cell_type": "code",
   "execution_count": 81,
   "metadata": {},
   "outputs": [],
   "source": [
    "x = df[['Attend', 'height', 'age']]\n",
    "y = df['ergorate']"
   ]
  },
  {
   "cell_type": "code",
   "execution_count": 82,
   "metadata": {
    "scrolled": true
   },
   "outputs": [
    {
     "data": {
      "text/plain": [
       "0      4.0\n",
       "1      2.0\n",
       "2      2.0\n",
       "3      4.0\n",
       "4      1.0\n",
       "      ... \n",
       "151    4.0\n",
       "152    2.0\n",
       "153    2.0\n",
       "154    2.0\n",
       "155    2.0\n",
       "Name: ergorate, Length: 156, dtype: float64"
      ]
     },
     "execution_count": 82,
     "metadata": {},
     "output_type": "execute_result"
    }
   ],
   "source": [
    "y"
   ]
  },
  {
   "cell_type": "code",
   "execution_count": 83,
   "metadata": {},
   "outputs": [],
   "source": [
    "x_train, x_test, y_train, y_test = mod.train_test_split(x, y, test_size=0.3)"
   ]
  },
  {
   "cell_type": "markdown",
   "metadata": {},
   "source": [
    "# Building and training"
   ]
  },
  {
   "cell_type": "code",
   "execution_count": 84,
   "metadata": {},
   "outputs": [],
   "source": [
    "m = kr.models.Sequential()\n",
    "\n",
    "m.add(kr.layers.Dense(20, input_dim=3, activation=\"relu\"))\n",
    "m.add(kr.layers.Dense(1, activation=\"linear\"))\n",
    "\n",
    "m.compile(loss=\"mean_squared_error\", optimizer=\"adam\")"
   ]
  },
  {
   "cell_type": "code",
   "execution_count": 85,
   "metadata": {},
   "outputs": [
    {
     "name": "stdout",
     "output_type": "stream",
     "text": [
      "Epoch 1/100\n",
      "109/109 [==============================] - 0s 3ms/step - loss: 12.2877\n",
      "Epoch 2/100\n",
      "109/109 [==============================] - 0s 192us/step - loss: 6.8177\n",
      "Epoch 3/100\n",
      "109/109 [==============================] - 0s 183us/step - loss: 3.5373\n",
      "Epoch 4/100\n",
      "109/109 [==============================] - 0s 174us/step - loss: 2.0844\n",
      "Epoch 5/100\n",
      "109/109 [==============================] - 0s 192us/step - loss: 1.6927\n",
      "Epoch 6/100\n",
      "109/109 [==============================] - 0s 183us/step - loss: 1.5835\n",
      "Epoch 7/100\n",
      "109/109 [==============================] - 0s 210us/step - loss: 1.5096\n",
      "Epoch 8/100\n",
      "109/109 [==============================] - 0s 192us/step - loss: 1.4321\n",
      "Epoch 9/100\n",
      "109/109 [==============================] - 0s 183us/step - loss: 1.3647\n",
      "Epoch 10/100\n",
      "109/109 [==============================] - 0s 183us/step - loss: 1.3121\n",
      "Epoch 11/100\n",
      "109/109 [==============================] - 0s 201us/step - loss: 1.2534\n",
      "Epoch 12/100\n",
      "109/109 [==============================] - 0s 183us/step - loss: 1.1953\n",
      "Epoch 13/100\n",
      "109/109 [==============================] - 0s 201us/step - loss: 1.1406\n",
      "Epoch 14/100\n",
      "109/109 [==============================] - 0s 183us/step - loss: 1.0876\n",
      "Epoch 15/100\n",
      "109/109 [==============================] - 0s 174us/step - loss: 1.0370\n",
      "Epoch 16/100\n",
      "109/109 [==============================] - 0s 192us/step - loss: 0.9939\n",
      "Epoch 17/100\n",
      "109/109 [==============================] - 0s 183us/step - loss: 0.9520\n",
      "Epoch 18/100\n",
      "109/109 [==============================] - 0s 201us/step - loss: 0.8968\n",
      "Epoch 19/100\n",
      "109/109 [==============================] - 0s 187us/step - loss: 0.8567\n",
      "Epoch 20/100\n",
      "109/109 [==============================] - 0s 201us/step - loss: 0.8164\n",
      "Epoch 21/100\n",
      "109/109 [==============================] - 0s 192us/step - loss: 0.7743\n",
      "Epoch 22/100\n",
      "109/109 [==============================] - 0s 183us/step - loss: 0.7359\n",
      "Epoch 23/100\n",
      "109/109 [==============================] - 0s 201us/step - loss: 0.6984\n",
      "Epoch 24/100\n",
      "109/109 [==============================] - 0s 210us/step - loss: 0.6625\n",
      "Epoch 25/100\n",
      "109/109 [==============================] - 0s 192us/step - loss: 0.6308\n",
      "Epoch 26/100\n",
      "109/109 [==============================] - 0s 185us/step - loss: 0.5974\n",
      "Epoch 27/100\n",
      "109/109 [==============================] - 0s 192us/step - loss: 0.5660\n",
      "Epoch 28/100\n",
      "109/109 [==============================] - 0s 183us/step - loss: 0.5364\n",
      "Epoch 29/100\n",
      "109/109 [==============================] - 0s 194us/step - loss: 0.5092\n",
      "Epoch 30/100\n",
      "109/109 [==============================] - 0s 201us/step - loss: 0.4828\n",
      "Epoch 31/100\n",
      "109/109 [==============================] - 0s 192us/step - loss: 0.4564\n",
      "Epoch 32/100\n",
      "109/109 [==============================] - 0s 192us/step - loss: 0.4323\n",
      "Epoch 33/100\n",
      "109/109 [==============================] - 0s 210us/step - loss: 0.4094\n",
      "Epoch 34/100\n",
      "109/109 [==============================] - 0s 201us/step - loss: 0.3888\n",
      "Epoch 35/100\n",
      "109/109 [==============================] - 0s 201us/step - loss: 0.3682\n",
      "Epoch 36/100\n",
      "109/109 [==============================] - 0s 183us/step - loss: 0.3461\n",
      "Epoch 37/100\n",
      "109/109 [==============================] - 0s 201us/step - loss: 0.3290\n",
      "Epoch 38/100\n",
      "109/109 [==============================] - 0s 192us/step - loss: 0.3108\n",
      "Epoch 39/100\n",
      "109/109 [==============================] - 0s 174us/step - loss: 0.2951\n",
      "Epoch 40/100\n",
      "109/109 [==============================] - 0s 189us/step - loss: 0.2800\n",
      "Epoch 41/100\n",
      "109/109 [==============================] - 0s 201us/step - loss: 0.2643\n",
      "Epoch 42/100\n",
      "109/109 [==============================] - 0s 195us/step - loss: 0.2510\n",
      "Epoch 43/100\n",
      "109/109 [==============================] - 0s 210us/step - loss: 0.2376\n",
      "Epoch 44/100\n",
      "109/109 [==============================] - 0s 183us/step - loss: 0.2253\n",
      "Epoch 45/100\n",
      "109/109 [==============================] - 0s 192us/step - loss: 0.2153\n",
      "Epoch 46/100\n",
      "109/109 [==============================] - 0s 192us/step - loss: 0.2067\n",
      "Epoch 47/100\n",
      "109/109 [==============================] - 0s 192us/step - loss: 0.1938\n",
      "Epoch 48/100\n",
      "109/109 [==============================] - 0s 183us/step - loss: 0.1845\n",
      "Epoch 49/100\n",
      "109/109 [==============================] - 0s 201us/step - loss: 0.1751\n",
      "Epoch 50/100\n",
      "109/109 [==============================] - 0s 220us/step - loss: 0.1670\n",
      "Epoch 51/100\n",
      "109/109 [==============================] - 0s 174us/step - loss: 0.1597\n",
      "Epoch 52/100\n",
      "109/109 [==============================] - 0s 183us/step - loss: 0.1529\n",
      "Epoch 53/100\n",
      "109/109 [==============================] - 0s 174us/step - loss: 0.1466\n",
      "Epoch 54/100\n",
      "109/109 [==============================] - 0s 183us/step - loss: 0.1405\n",
      "Epoch 55/100\n",
      "109/109 [==============================] - 0s 192us/step - loss: 0.1348\n",
      "Epoch 56/100\n",
      "109/109 [==============================] - 0s 198us/step - loss: 0.1292\n",
      "Epoch 57/100\n",
      "109/109 [==============================] - 0s 183us/step - loss: 0.1263\n",
      "Epoch 58/100\n",
      "109/109 [==============================] - 0s 165us/step - loss: 0.1203\n",
      "Epoch 59/100\n",
      "109/109 [==============================] - 0s 174us/step - loss: 0.1171\n",
      "Epoch 60/100\n",
      "109/109 [==============================] - 0s 183us/step - loss: 0.1128\n",
      "Epoch 61/100\n",
      "109/109 [==============================] - 0s 183us/step - loss: 0.1088\n",
      "Epoch 62/100\n",
      "109/109 [==============================] - 0s 192us/step - loss: 0.1058\n",
      "Epoch 63/100\n",
      "109/109 [==============================] - 0s 174us/step - loss: 0.1026\n",
      "Epoch 64/100\n",
      "109/109 [==============================] - 0s 183us/step - loss: 0.1014\n",
      "Epoch 65/100\n",
      "109/109 [==============================] - 0s 174us/step - loss: 0.0980\n",
      "Epoch 66/100\n",
      "109/109 [==============================] - 0s 174us/step - loss: 0.0961\n",
      "Epoch 67/100\n",
      "109/109 [==============================] - 0s 183us/step - loss: 0.0936\n",
      "Epoch 68/100\n",
      "109/109 [==============================] - 0s 192us/step - loss: 0.0920\n",
      "Epoch 69/100\n",
      "109/109 [==============================] - 0s 165us/step - loss: 0.0903\n",
      "Epoch 70/100\n",
      "109/109 [==============================] - 0s 192us/step - loss: 0.0889\n",
      "Epoch 71/100\n",
      "109/109 [==============================] - 0s 183us/step - loss: 0.0875\n",
      "Epoch 72/100\n",
      "109/109 [==============================] - 0s 174us/step - loss: 0.0867\n",
      "Epoch 73/100\n",
      "109/109 [==============================] - 0s 183us/step - loss: 0.0850\n",
      "Epoch 74/100\n",
      "109/109 [==============================] - 0s 183us/step - loss: 0.0842\n",
      "Epoch 75/100\n",
      "109/109 [==============================] - 0s 184us/step - loss: 0.0832\n",
      "Epoch 76/100\n",
      "109/109 [==============================] - 0s 183us/step - loss: 0.0824\n",
      "Epoch 77/100\n",
      "109/109 [==============================] - 0s 174us/step - loss: 0.0827\n",
      "Epoch 78/100\n",
      "109/109 [==============================] - 0s 165us/step - loss: 0.0824\n",
      "Epoch 79/100\n",
      "109/109 [==============================] - 0s 165us/step - loss: 0.0807\n",
      "Epoch 80/100\n",
      "109/109 [==============================] - 0s 174us/step - loss: 0.0801\n",
      "Epoch 81/100\n",
      "109/109 [==============================] - 0s 174us/step - loss: 0.0802\n",
      "Epoch 82/100\n",
      "109/109 [==============================] - 0s 174us/step - loss: 0.0801\n",
      "Epoch 83/100\n",
      "109/109 [==============================] - 0s 174us/step - loss: 0.0798\n",
      "Epoch 84/100\n",
      "109/109 [==============================] - 0s 192us/step - loss: 0.0800\n",
      "Epoch 85/100\n",
      "109/109 [==============================] - 0s 183us/step - loss: 0.0780\n",
      "Epoch 86/100\n",
      "109/109 [==============================] - 0s 174us/step - loss: 0.0796\n",
      "Epoch 87/100\n",
      "109/109 [==============================] - 0s 192us/step - loss: 0.0776\n",
      "Epoch 88/100\n",
      "109/109 [==============================] - 0s 183us/step - loss: 0.0777\n",
      "Epoch 89/100\n",
      "109/109 [==============================] - 0s 183us/step - loss: 0.0775\n",
      "Epoch 90/100\n",
      "109/109 [==============================] - 0s 192us/step - loss: 0.0776\n",
      "Epoch 91/100\n",
      "109/109 [==============================] - 0s 183us/step - loss: 0.0771\n",
      "Epoch 92/100\n",
      "109/109 [==============================] - 0s 165us/step - loss: 0.0784\n",
      "Epoch 93/100\n",
      "109/109 [==============================] - 0s 165us/step - loss: 0.0770\n",
      "Epoch 94/100\n",
      "109/109 [==============================] - 0s 183us/step - loss: 0.0773\n",
      "Epoch 95/100\n",
      "109/109 [==============================] - 0s 192us/step - loss: 0.0769\n",
      "Epoch 96/100\n",
      "109/109 [==============================] - 0s 183us/step - loss: 0.0771\n",
      "Epoch 97/100\n"
     ]
    },
    {
     "name": "stdout",
     "output_type": "stream",
     "text": [
      "109/109 [==============================] - 0s 192us/step - loss: 0.0764\n",
      "Epoch 98/100\n",
      "109/109 [==============================] - 0s 183us/step - loss: 0.0770\n",
      "Epoch 99/100\n",
      "109/109 [==============================] - 0s 192us/step - loss: 0.0765\n",
      "Epoch 100/100\n",
      "109/109 [==============================] - 0s 183us/step - loss: 0.0764\n"
     ]
    },
    {
     "data": {
      "text/plain": [
       "<keras.callbacks.callbacks.History at 0x11aaa9a6188>"
      ]
     },
     "execution_count": 85,
     "metadata": {},
     "output_type": "execute_result"
    }
   ],
   "source": [
    "m.fit(x_train, y_train, epochs=100, batch_size=10)"
   ]
  },
  {
   "cell_type": "code",
   "execution_count": 86,
   "metadata": {},
   "outputs": [
    {
     "data": {
      "text/plain": [
       "array([[4., 1., 2., 2., 1., 3., 4., 2., 3., 4., 1., 2., 4., 2., 3., 4.,\n",
       "        2., 4., 2., 1., 1., 2., 1., 4., 4., 4., 2., 2., 2., 1., 3., 2.,\n",
       "        2., 4., 3., 2., 3., 4., 4., 2., 1., 4., 2., 2., 2., 4., 1.]],\n",
       "      dtype=float32)"
      ]
     },
     "execution_count": 86,
     "metadata": {},
     "output_type": "execute_result"
    }
   ],
   "source": [
    "m.predict(x_test).round().T"
   ]
  },
  {
   "cell_type": "code",
   "execution_count": 87,
   "metadata": {},
   "outputs": [
    {
     "name": "stdout",
     "output_type": "stream",
     "text": [
      "47/47 [==============================] - 0s 955us/step\n"
     ]
    },
    {
     "data": {
      "text/plain": [
       "0.07336591628003628"
      ]
     },
     "execution_count": 87,
     "metadata": {},
     "output_type": "execute_result"
    }
   ],
   "source": [
    "m.evaluate(x_test, y_test)"
   ]
  },
  {
   "cell_type": "markdown",
   "metadata": {},
   "source": [
    "# Scaling\n"
   ]
  },
  {
   "cell_type": "code",
   "execution_count": 88,
   "metadata": {},
   "outputs": [],
   "source": [
    "scaler = pre.StandardScaler()\n",
    "scaler.fit(x_train)\n",
    "x_train_scaled = scaler.transform(x_train)"
   ]
  },
  {
   "cell_type": "code",
   "execution_count": 89,
   "metadata": {},
   "outputs": [],
   "source": [
    "m = kr.models.Sequential()\n",
    "\n",
    "m.add(kr.layers.Dense(20, input_dim=3, activation=\"relu\"))\n",
    "m.add(kr.layers.Dense(1, activation=\"linear\"))\n",
    "\n",
    "m.compile(loss=\"mean_squared_error\", optimizer=\"adam\")"
   ]
  },
  {
   "cell_type": "code",
   "execution_count": 90,
   "metadata": {},
   "outputs": [
    {
     "name": "stdout",
     "output_type": "stream",
     "text": [
      "Epoch 1/100\n",
      "109/109 [==============================] - 0s 3ms/step - loss: 6.8458\n",
      "Epoch 2/100\n",
      "109/109 [==============================] - 0s 156us/step - loss: 6.3260\n",
      "Epoch 3/100\n",
      "109/109 [==============================] - 0s 174us/step - loss: 5.8419\n",
      "Epoch 4/100\n",
      "109/109 [==============================] - 0s 183us/step - loss: 5.3470\n",
      "Epoch 5/100\n",
      "109/109 [==============================] - 0s 174us/step - loss: 4.8876\n",
      "Epoch 6/100\n",
      "109/109 [==============================] - 0s 182us/step - loss: 4.4539\n",
      "Epoch 7/100\n",
      "109/109 [==============================] - 0s 174us/step - loss: 4.0433\n",
      "Epoch 8/100\n",
      "109/109 [==============================] - 0s 165us/step - loss: 3.6698\n",
      "Epoch 9/100\n",
      "109/109 [==============================] - 0s 192us/step - loss: 3.2877\n",
      "Epoch 10/100\n",
      "109/109 [==============================] - 0s 183us/step - loss: 2.9603\n",
      "Epoch 11/100\n",
      "109/109 [==============================] - 0s 192us/step - loss: 2.6445\n",
      "Epoch 12/100\n",
      "109/109 [==============================] - 0s 174us/step - loss: 2.3564\n",
      "Epoch 13/100\n",
      "109/109 [==============================] - 0s 201us/step - loss: 2.0824\n",
      "Epoch 14/100\n",
      "109/109 [==============================] - 0s 210us/step - loss: 1.8376\n",
      "Epoch 15/100\n",
      "109/109 [==============================] - 0s 238us/step - loss: 1.6073\n",
      "Epoch 16/100\n",
      "109/109 [==============================] - 0s 192us/step - loss: 1.4064\n",
      "Epoch 17/100\n",
      "109/109 [==============================] - 0s 229us/step - loss: 1.2322\n",
      "Epoch 18/100\n",
      "109/109 [==============================] - 0s 192us/step - loss: 1.0601\n",
      "Epoch 19/100\n",
      "109/109 [==============================] - 0s 192us/step - loss: 0.9133\n",
      "Epoch 20/100\n",
      "109/109 [==============================] - 0s 210us/step - loss: 0.7913\n",
      "Epoch 21/100\n",
      "109/109 [==============================] - 0s 220us/step - loss: 0.6821\n",
      "Epoch 22/100\n",
      "109/109 [==============================] - 0s 210us/step - loss: 0.5853\n",
      "Epoch 23/100\n",
      "109/109 [==============================] - 0s 220us/step - loss: 0.5047\n",
      "Epoch 24/100\n",
      "109/109 [==============================] - 0s 220us/step - loss: 0.4385\n",
      "Epoch 25/100\n",
      "109/109 [==============================] - 0s 165us/step - loss: 0.3767\n",
      "Epoch 26/100\n",
      "109/109 [==============================] - 0s 183us/step - loss: 0.3306\n",
      "Epoch 27/100\n",
      "109/109 [==============================] - 0s 165us/step - loss: 0.2872\n",
      "Epoch 28/100\n",
      "109/109 [==============================] - 0s 192us/step - loss: 0.2563\n",
      "Epoch 29/100\n",
      "109/109 [==============================] - 0s 183us/step - loss: 0.2265\n",
      "Epoch 30/100\n",
      "109/109 [==============================] - 0s 192us/step - loss: 0.2035\n",
      "Epoch 31/100\n",
      "109/109 [==============================] - 0s 183us/step - loss: 0.1843\n",
      "Epoch 32/100\n",
      "109/109 [==============================] - 0s 183us/step - loss: 0.1691\n",
      "Epoch 33/100\n",
      "109/109 [==============================] - 0s 192us/step - loss: 0.1564\n",
      "Epoch 34/100\n",
      "109/109 [==============================] - 0s 192us/step - loss: 0.1452\n",
      "Epoch 35/100\n",
      "109/109 [==============================] - 0s 192us/step - loss: 0.1364\n",
      "Epoch 36/100\n",
      "109/109 [==============================] - 0s 183us/step - loss: 0.1288\n",
      "Epoch 37/100\n",
      "109/109 [==============================] - 0s 174us/step - loss: 0.1231\n",
      "Epoch 38/100\n",
      "109/109 [==============================] - 0s 183us/step - loss: 0.1176\n",
      "Epoch 39/100\n",
      "109/109 [==============================] - 0s 183us/step - loss: 0.1134\n",
      "Epoch 40/100\n",
      "109/109 [==============================] - 0s 165us/step - loss: 0.1098\n",
      "Epoch 41/100\n",
      "109/109 [==============================] - 0s 192us/step - loss: 0.1065\n",
      "Epoch 42/100\n",
      "109/109 [==============================] - 0s 183us/step - loss: 0.1040\n",
      "Epoch 43/100\n",
      "109/109 [==============================] - 0s 183us/step - loss: 0.1015\n",
      "Epoch 44/100\n",
      "109/109 [==============================] - 0s 174us/step - loss: 0.1000\n",
      "Epoch 45/100\n",
      "109/109 [==============================] - 0s 183us/step - loss: 0.0977\n",
      "Epoch 46/100\n",
      "109/109 [==============================] - 0s 183us/step - loss: 0.0959\n",
      "Epoch 47/100\n",
      "109/109 [==============================] - 0s 174us/step - loss: 0.0945\n",
      "Epoch 48/100\n",
      "109/109 [==============================] - 0s 201us/step - loss: 0.0932\n",
      "Epoch 49/100\n",
      "109/109 [==============================] - 0s 165us/step - loss: 0.0920\n",
      "Epoch 50/100\n",
      "109/109 [==============================] - 0s 183us/step - loss: 0.0907\n",
      "Epoch 51/100\n",
      "109/109 [==============================] - 0s 192us/step - loss: 0.0899\n",
      "Epoch 52/100\n",
      "109/109 [==============================] - 0s 192us/step - loss: 0.0887\n",
      "Epoch 53/100\n",
      "109/109 [==============================] - 0s 201us/step - loss: 0.0877\n",
      "Epoch 54/100\n",
      "109/109 [==============================] - 0s 174us/step - loss: 0.0869\n",
      "Epoch 55/100\n",
      "109/109 [==============================] - 0s 183us/step - loss: 0.0860\n",
      "Epoch 56/100\n",
      "109/109 [==============================] - 0s 174us/step - loss: 0.0852\n",
      "Epoch 57/100\n",
      "109/109 [==============================] - 0s 183us/step - loss: 0.0847\n",
      "Epoch 58/100\n",
      "109/109 [==============================] - 0s 220us/step - loss: 0.0837\n",
      "Epoch 59/100\n",
      "109/109 [==============================] - 0s 174us/step - loss: 0.0831\n",
      "Epoch 60/100\n",
      "109/109 [==============================] - 0s 220us/step - loss: 0.0820\n",
      "Epoch 61/100\n",
      "109/109 [==============================] - 0s 183us/step - loss: 0.0816\n",
      "Epoch 62/100\n",
      "109/109 [==============================] - 0s 201us/step - loss: 0.0808\n",
      "Epoch 63/100\n",
      "109/109 [==============================] - 0s 165us/step - loss: 0.0801\n",
      "Epoch 64/100\n",
      "109/109 [==============================] - 0s 174us/step - loss: 0.0793\n",
      "Epoch 65/100\n",
      "109/109 [==============================] - 0s 165us/step - loss: 0.0787\n",
      "Epoch 66/100\n",
      "109/109 [==============================] - 0s 183us/step - loss: 0.0782\n",
      "Epoch 67/100\n",
      "109/109 [==============================] - 0s 192us/step - loss: 0.0773\n",
      "Epoch 68/100\n",
      "109/109 [==============================] - 0s 174us/step - loss: 0.0766\n",
      "Epoch 69/100\n",
      "109/109 [==============================] - 0s 174us/step - loss: 0.0762\n",
      "Epoch 70/100\n",
      "109/109 [==============================] - 0s 174us/step - loss: 0.0756\n",
      "Epoch 71/100\n",
      "109/109 [==============================] - 0s 165us/step - loss: 0.0749\n",
      "Epoch 72/100\n",
      "109/109 [==============================] - 0s 174us/step - loss: 0.0746\n",
      "Epoch 73/100\n",
      "109/109 [==============================] - 0s 166us/step - loss: 0.0741\n",
      "Epoch 74/100\n",
      "109/109 [==============================] - 0s 183us/step - loss: 0.0735\n",
      "Epoch 75/100\n",
      "109/109 [==============================] - 0s 165us/step - loss: 0.0729\n",
      "Epoch 76/100\n",
      "109/109 [==============================] - 0s 165us/step - loss: 0.0727\n",
      "Epoch 77/100\n",
      "109/109 [==============================] - 0s 174us/step - loss: 0.0724\n",
      "Epoch 78/100\n",
      "109/109 [==============================] - 0s 183us/step - loss: 0.0717\n",
      "Epoch 79/100\n",
      "109/109 [==============================] - 0s 165us/step - loss: 0.0713\n",
      "Epoch 80/100\n",
      "109/109 [==============================] - 0s 165us/step - loss: 0.0707\n",
      "Epoch 81/100\n",
      "109/109 [==============================] - 0s 174us/step - loss: 0.0703\n",
      "Epoch 82/100\n",
      "109/109 [==============================] - 0s 183us/step - loss: 0.0698\n",
      "Epoch 83/100\n",
      "109/109 [==============================] - 0s 165us/step - loss: 0.0696\n",
      "Epoch 84/100\n",
      "109/109 [==============================] - 0s 174us/step - loss: 0.0689\n",
      "Epoch 85/100\n",
      "109/109 [==============================] - 0s 177us/step - loss: 0.0685\n",
      "Epoch 86/100\n",
      "109/109 [==============================] - 0s 174us/step - loss: 0.0682\n",
      "Epoch 87/100\n",
      "109/109 [==============================] - 0s 183us/step - loss: 0.0680\n",
      "Epoch 88/100\n",
      "109/109 [==============================] - 0s 174us/step - loss: 0.0675\n",
      "Epoch 89/100\n",
      "109/109 [==============================] - 0s 174us/step - loss: 0.0670\n",
      "Epoch 90/100\n",
      "109/109 [==============================] - 0s 183us/step - loss: 0.0665\n",
      "Epoch 91/100\n",
      "109/109 [==============================] - 0s 165us/step - loss: 0.0663\n",
      "Epoch 92/100\n",
      "109/109 [==============================] - 0s 174us/step - loss: 0.0659\n",
      "Epoch 93/100\n",
      "109/109 [==============================] - 0s 174us/step - loss: 0.0658\n",
      "Epoch 94/100\n",
      "109/109 [==============================] - 0s 174us/step - loss: 0.0652\n",
      "Epoch 95/100\n",
      "109/109 [==============================] - 0s 174us/step - loss: 0.0651\n",
      "Epoch 96/100\n",
      "109/109 [==============================] - 0s 183us/step - loss: 0.0647\n",
      "Epoch 97/100\n"
     ]
    },
    {
     "name": "stdout",
     "output_type": "stream",
     "text": [
      "109/109 [==============================] - 0s 165us/step - loss: 0.0643\n",
      "Epoch 98/100\n",
      "109/109 [==============================] - 0s 174us/step - loss: 0.0640\n",
      "Epoch 99/100\n",
      "109/109 [==============================] - 0s 183us/step - loss: 0.0637\n",
      "Epoch 100/100\n",
      "109/109 [==============================] - 0s 174us/step - loss: 0.0634\n"
     ]
    },
    {
     "data": {
      "text/plain": [
       "<keras.callbacks.callbacks.History at 0x11aab011188>"
      ]
     },
     "execution_count": 90,
     "metadata": {},
     "output_type": "execute_result"
    }
   ],
   "source": [
    "m.fit(x_train_scaled, y_train, epochs=100, batch_size=10)"
   ]
  },
  {
   "cell_type": "code",
   "execution_count": 91,
   "metadata": {},
   "outputs": [
    {
     "data": {
      "text/plain": [
       "array([[4., 1., 2., 2., 1., 3., 4., 2., 3., 4., 1., 2., 4., 2., 3., 4.,\n",
       "        2., 4., 2., 1., 1., 2., 1., 4., 4., 4., 2., 2., 2., 1., 3., 2.,\n",
       "        2., 4., 3., 2., 3., 4., 4., 2., 1., 4., 2., 2., 2., 4., 1.]],\n",
       "      dtype=float32)"
      ]
     },
     "execution_count": 91,
     "metadata": {},
     "output_type": "execute_result"
    }
   ],
   "source": [
    "x_test_scaled = scaler.transform(x_test)\n",
    "m.predict(x_test_scaled).round().T"
   ]
  },
  {
   "cell_type": "code",
   "execution_count": 92,
   "metadata": {},
   "outputs": [
    {
     "name": "stdout",
     "output_type": "stream",
     "text": [
      "47/47 [==============================] - 0s 955us/step\n"
     ]
    },
    {
     "data": {
      "text/plain": [
       "0.07688543232197458"
      ]
     },
     "execution_count": 92,
     "metadata": {},
     "output_type": "execute_result"
    }
   ],
   "source": [
    "m.evaluate(x_test_scaled, y_test)"
   ]
  },
  {
   "cell_type": "markdown",
   "metadata": {},
   "source": [
    "# Whitening"
   ]
  },
  {
   "cell_type": "code",
   "execution_count": 93,
   "metadata": {
    "scrolled": false
   },
   "outputs": [
    {
     "data": {
      "text/html": [
       "<div>\n",
       "<style scoped>\n",
       "    .dataframe tbody tr th:only-of-type {\n",
       "        vertical-align: middle;\n",
       "    }\n",
       "\n",
       "    .dataframe tbody tr th {\n",
       "        vertical-align: top;\n",
       "    }\n",
       "\n",
       "    .dataframe thead th {\n",
       "        text-align: right;\n",
       "    }\n",
       "</style>\n",
       "<table border=\"1\" class=\"dataframe\">\n",
       "  <thead>\n",
       "    <tr style=\"text-align: right;\">\n",
       "      <th></th>\n",
       "      <th>Attend</th>\n",
       "      <th>height</th>\n",
       "      <th>age</th>\n",
       "    </tr>\n",
       "  </thead>\n",
       "  <tbody>\n",
       "    <tr>\n",
       "      <th>0</th>\n",
       "      <td>0.368373</td>\n",
       "      <td>-0.681084</td>\n",
       "      <td>1.276627</td>\n",
       "    </tr>\n",
       "    <tr>\n",
       "      <th>1</th>\n",
       "      <td>-0.213367</td>\n",
       "      <td>-0.773324</td>\n",
       "      <td>-1.182184</td>\n",
       "    </tr>\n",
       "    <tr>\n",
       "      <th>2</th>\n",
       "      <td>1.531068</td>\n",
       "      <td>-0.454972</td>\n",
       "      <td>1.255758</td>\n",
       "    </tr>\n",
       "    <tr>\n",
       "      <th>3</th>\n",
       "      <td>0.368373</td>\n",
       "      <td>-0.681084</td>\n",
       "      <td>1.276627</td>\n",
       "    </tr>\n",
       "    <tr>\n",
       "      <th>4</th>\n",
       "      <td>1.530674</td>\n",
       "      <td>-0.434155</td>\n",
       "      <td>-1.213488</td>\n",
       "    </tr>\n",
       "    <tr>\n",
       "      <th>...</th>\n",
       "      <td>...</td>\n",
       "      <td>...</td>\n",
       "      <td>...</td>\n",
       "    </tr>\n",
       "    <tr>\n",
       "      <th>104</th>\n",
       "      <td>-1.376061</td>\n",
       "      <td>-0.999436</td>\n",
       "      <td>-1.161316</td>\n",
       "    </tr>\n",
       "    <tr>\n",
       "      <th>105</th>\n",
       "      <td>-0.794321</td>\n",
       "      <td>-0.907196</td>\n",
       "      <td>1.297495</td>\n",
       "    </tr>\n",
       "    <tr>\n",
       "      <th>106</th>\n",
       "      <td>-1.406928</td>\n",
       "      <td>1.112451</td>\n",
       "      <td>0.031895</td>\n",
       "    </tr>\n",
       "    <tr>\n",
       "      <th>107</th>\n",
       "      <td>-0.213367</td>\n",
       "      <td>-0.773324</td>\n",
       "      <td>-1.182184</td>\n",
       "    </tr>\n",
       "    <tr>\n",
       "      <th>108</th>\n",
       "      <td>-0.212974</td>\n",
       "      <td>-0.794140</td>\n",
       "      <td>1.287061</td>\n",
       "    </tr>\n",
       "  </tbody>\n",
       "</table>\n",
       "<p>109 rows × 3 columns</p>\n",
       "</div>"
      ],
      "text/plain": [
       "       Attend    height       age\n",
       "0    0.368373 -0.681084  1.276627\n",
       "1   -0.213367 -0.773324 -1.182184\n",
       "2    1.531068 -0.454972  1.255758\n",
       "3    0.368373 -0.681084  1.276627\n",
       "4    1.530674 -0.434155 -1.213488\n",
       "..        ...       ...       ...\n",
       "104 -1.376061 -0.999436 -1.161316\n",
       "105 -0.794321 -0.907196  1.297495\n",
       "106 -1.406928  1.112451  0.031895\n",
       "107 -0.213367 -0.773324 -1.182184\n",
       "108 -0.212974 -0.794140  1.287061\n",
       "\n",
       "[109 rows x 3 columns]"
      ]
     },
     "execution_count": 93,
     "metadata": {},
     "output_type": "execute_result"
    }
   ],
   "source": [
    "pca = dec.PCA(n_components=3, whiten=True)\n",
    "pca.fit(x_train)\n",
    "x_train_white = pd.DataFrame(pca.transform(x_train), columns=x.columns)\n",
    "x_train_white"
   ]
  },
  {
   "cell_type": "code",
   "execution_count": 94,
   "metadata": {},
   "outputs": [],
   "source": [
    "m = kr.models.Sequential()\n",
    "\n",
    "m.add(kr.layers.Dense(100, input_dim=3, activation=\"tanh\"))\n",
    "m.add(kr.layers.Dense(1, activation=\"linear\"))\n",
    "\n",
    "m.compile(loss=\"mean_squared_error\", optimizer=\"adam\")"
   ]
  },
  {
   "cell_type": "code",
   "execution_count": 95,
   "metadata": {},
   "outputs": [
    {
     "name": "stdout",
     "output_type": "stream",
     "text": [
      "Epoch 1/100\n",
      "109/109 [==============================] - 0s 3ms/step - loss: 8.3112\n",
      "Epoch 2/100\n",
      "109/109 [==============================] - 0s 165us/step - loss: 7.2960\n",
      "Epoch 3/100\n",
      "109/109 [==============================] - 0s 192us/step - loss: 6.3308\n",
      "Epoch 4/100\n",
      "109/109 [==============================] - 0s 210us/step - loss: 5.4678\n",
      "Epoch 5/100\n",
      "109/109 [==============================] - 0s 192us/step - loss: 4.6448\n",
      "Epoch 6/100\n",
      "109/109 [==============================] - 0s 210us/step - loss: 3.8459\n",
      "Epoch 7/100\n",
      "109/109 [==============================] - 0s 183us/step - loss: 3.1394\n",
      "Epoch 8/100\n",
      "109/109 [==============================] - 0s 192us/step - loss: 2.4802\n",
      "Epoch 9/100\n",
      "109/109 [==============================] - 0s 192us/step - loss: 1.8773\n",
      "Epoch 10/100\n",
      "109/109 [==============================] - 0s 192us/step - loss: 1.3717\n",
      "Epoch 11/100\n",
      "109/109 [==============================] - 0s 201us/step - loss: 0.9512\n",
      "Epoch 12/100\n",
      "109/109 [==============================] - 0s 192us/step - loss: 0.6283\n",
      "Epoch 13/100\n",
      "109/109 [==============================] - 0s 192us/step - loss: 0.3962\n",
      "Epoch 14/100\n",
      "109/109 [==============================] - 0s 220us/step - loss: 0.2434\n",
      "Epoch 15/100\n",
      "109/109 [==============================] - 0s 238us/step - loss: 0.1516\n",
      "Epoch 16/100\n",
      "109/109 [==============================] - 0s 210us/step - loss: 0.1001\n",
      "Epoch 17/100\n",
      "109/109 [==============================] - 0s 210us/step - loss: 0.0768\n",
      "Epoch 18/100\n",
      "109/109 [==============================] - 0s 229us/step - loss: 0.0673\n",
      "Epoch 19/100\n",
      "109/109 [==============================] - 0s 210us/step - loss: 0.0629\n",
      "Epoch 20/100\n",
      "109/109 [==============================] - 0s 210us/step - loss: 0.0620\n",
      "Epoch 21/100\n",
      "109/109 [==============================] - 0s 210us/step - loss: 0.0613\n",
      "Epoch 22/100\n",
      "109/109 [==============================] - 0s 201us/step - loss: 0.0613\n",
      "Epoch 23/100\n",
      "109/109 [==============================] - 0s 210us/step - loss: 0.0617\n",
      "Epoch 24/100\n",
      "109/109 [==============================] - 0s 220us/step - loss: 0.0614\n",
      "Epoch 25/100\n",
      "109/109 [==============================] - 0s 183us/step - loss: 0.0615\n",
      "Epoch 26/100\n",
      "109/109 [==============================] - 0s 201us/step - loss: 0.0613\n",
      "Epoch 27/100\n",
      "109/109 [==============================] - 0s 192us/step - loss: 0.0614\n",
      "Epoch 28/100\n",
      "109/109 [==============================] - 0s 201us/step - loss: 0.0616\n",
      "Epoch 29/100\n",
      "109/109 [==============================] - 0s 210us/step - loss: 0.0618\n",
      "Epoch 30/100\n",
      "109/109 [==============================] - 0s 192us/step - loss: 0.0613\n",
      "Epoch 31/100\n",
      "109/109 [==============================] - 0s 210us/step - loss: 0.0619\n",
      "Epoch 32/100\n",
      "109/109 [==============================] - 0s 183us/step - loss: 0.0619\n",
      "Epoch 33/100\n",
      "109/109 [==============================] - 0s 183us/step - loss: 0.0620\n",
      "Epoch 34/100\n",
      "109/109 [==============================] - 0s 220us/step - loss: 0.0614\n",
      "Epoch 35/100\n",
      "109/109 [==============================] - 0s 201us/step - loss: 0.0616\n",
      "Epoch 36/100\n",
      "109/109 [==============================] - 0s 166us/step - loss: 0.0615\n",
      "Epoch 37/100\n",
      "109/109 [==============================] - 0s 192us/step - loss: 0.0618\n",
      "Epoch 38/100\n",
      "109/109 [==============================] - 0s 174us/step - loss: 0.0613\n",
      "Epoch 39/100\n",
      "109/109 [==============================] - 0s 210us/step - loss: 0.0616\n",
      "Epoch 40/100\n",
      "109/109 [==============================] - 0s 192us/step - loss: 0.0614\n",
      "Epoch 41/100\n",
      "109/109 [==============================] - 0s 174us/step - loss: 0.0613\n",
      "Epoch 42/100\n",
      "109/109 [==============================] - 0s 210us/step - loss: 0.0618\n",
      "Epoch 43/100\n",
      "109/109 [==============================] - 0s 165us/step - loss: 0.0618\n",
      "Epoch 44/100\n",
      "109/109 [==============================] - 0s 174us/step - loss: 0.0614\n",
      "Epoch 45/100\n",
      "109/109 [==============================] - 0s 192us/step - loss: 0.0616\n",
      "Epoch 46/100\n",
      "109/109 [==============================] - 0s 174us/step - loss: 0.0612\n",
      "Epoch 47/100\n",
      "109/109 [==============================] - 0s 183us/step - loss: 0.0614\n",
      "Epoch 48/100\n",
      "109/109 [==============================] - 0s 192us/step - loss: 0.0614\n",
      "Epoch 49/100\n",
      "109/109 [==============================] - 0s 229us/step - loss: 0.0617\n",
      "Epoch 50/100\n",
      "109/109 [==============================] - 0s 229us/step - loss: 0.0619\n",
      "Epoch 51/100\n",
      "109/109 [==============================] - 0s 210us/step - loss: 0.0612\n",
      "Epoch 52/100\n",
      "109/109 [==============================] - 0s 229us/step - loss: 0.0614\n",
      "Epoch 53/100\n",
      "109/109 [==============================] - 0s 229us/step - loss: 0.0615\n",
      "Epoch 54/100\n",
      "109/109 [==============================] - 0s 220us/step - loss: 0.0612\n",
      "Epoch 55/100\n",
      "109/109 [==============================] - 0s 220us/step - loss: 0.0618\n",
      "Epoch 56/100\n",
      "109/109 [==============================] - 0s 229us/step - loss: 0.0614\n",
      "Epoch 57/100\n",
      "109/109 [==============================] - 0s 220us/step - loss: 0.0615\n",
      "Epoch 58/100\n",
      "109/109 [==============================] - 0s 220us/step - loss: 0.0617\n",
      "Epoch 59/100\n",
      "109/109 [==============================] - 0s 183us/step - loss: 0.0625\n",
      "Epoch 60/100\n",
      "109/109 [==============================] - 0s 192us/step - loss: 0.0612\n",
      "Epoch 61/100\n",
      "109/109 [==============================] - 0s 174us/step - loss: 0.0613\n",
      "Epoch 62/100\n",
      "109/109 [==============================] - 0s 174us/step - loss: 0.0614\n",
      "Epoch 63/100\n",
      "109/109 [==============================] - 0s 156us/step - loss: 0.0616\n",
      "Epoch 64/100\n",
      "109/109 [==============================] - 0s 156us/step - loss: 0.0615\n",
      "Epoch 65/100\n",
      "109/109 [==============================] - 0s 146us/step - loss: 0.0615\n",
      "Epoch 66/100\n",
      "109/109 [==============================] - 0s 165us/step - loss: 0.0615\n",
      "Epoch 67/100\n",
      "109/109 [==============================] - 0s 165us/step - loss: 0.0614\n",
      "Epoch 68/100\n",
      "109/109 [==============================] - 0s 165us/step - loss: 0.0615\n",
      "Epoch 69/100\n",
      "109/109 [==============================] - 0s 156us/step - loss: 0.0617\n",
      "Epoch 70/100\n",
      "109/109 [==============================] - 0s 165us/step - loss: 0.0616\n",
      "Epoch 71/100\n",
      "109/109 [==============================] - 0s 137us/step - loss: 0.0630\n",
      "Epoch 72/100\n",
      "109/109 [==============================] - 0s 165us/step - loss: 0.0615\n",
      "Epoch 73/100\n",
      "109/109 [==============================] - 0s 156us/step - loss: 0.0614\n",
      "Epoch 74/100\n",
      "109/109 [==============================] - 0s 156us/step - loss: 0.0615\n",
      "Epoch 75/100\n",
      "109/109 [==============================] - 0s 174us/step - loss: 0.0614\n",
      "Epoch 76/100\n",
      "109/109 [==============================] - 0s 156us/step - loss: 0.0624\n",
      "Epoch 77/100\n",
      "109/109 [==============================] - 0s 165us/step - loss: 0.0612\n",
      "Epoch 78/100\n",
      "109/109 [==============================] - 0s 183us/step - loss: 0.0608\n",
      "Epoch 79/100\n",
      "109/109 [==============================] - 0s 174us/step - loss: 0.0619\n",
      "Epoch 80/100\n",
      "109/109 [==============================] - 0s 146us/step - loss: 0.0613\n",
      "Epoch 81/100\n",
      "109/109 [==============================] - 0s 165us/step - loss: 0.0610\n",
      "Epoch 82/100\n",
      "109/109 [==============================] - 0s 165us/step - loss: 0.0624\n",
      "Epoch 83/100\n",
      "109/109 [==============================] - 0s 172us/step - loss: 0.0628\n",
      "Epoch 84/100\n",
      "109/109 [==============================] - 0s 183us/step - loss: 0.0613\n",
      "Epoch 85/100\n",
      "109/109 [==============================] - 0s 156us/step - loss: 0.0615\n",
      "Epoch 86/100\n",
      "109/109 [==============================] - 0s 146us/step - loss: 0.0614\n",
      "Epoch 87/100\n",
      "109/109 [==============================] - 0s 165us/step - loss: 0.0614\n",
      "Epoch 88/100\n",
      "109/109 [==============================] - 0s 165us/step - loss: 0.0617\n",
      "Epoch 89/100\n",
      "109/109 [==============================] - 0s 174us/step - loss: 0.0617\n",
      "Epoch 90/100\n",
      "109/109 [==============================] - 0s 165us/step - loss: 0.0613\n",
      "Epoch 91/100\n",
      "109/109 [==============================] - 0s 165us/step - loss: 0.0618\n",
      "Epoch 92/100\n",
      "109/109 [==============================] - 0s 165us/step - loss: 0.0616\n",
      "Epoch 93/100\n",
      "109/109 [==============================] - 0s 174us/step - loss: 0.0616\n",
      "Epoch 94/100\n",
      "109/109 [==============================] - 0s 165us/step - loss: 0.0611\n",
      "Epoch 95/100\n",
      "109/109 [==============================] - 0s 154us/step - loss: 0.0618\n",
      "Epoch 96/100\n",
      "109/109 [==============================] - 0s 165us/step - loss: 0.0621\n",
      "Epoch 97/100\n"
     ]
    },
    {
     "name": "stdout",
     "output_type": "stream",
     "text": [
      "109/109 [==============================] - 0s 156us/step - loss: 0.0617\n",
      "Epoch 98/100\n",
      "109/109 [==============================] - 0s 165us/step - loss: 0.0615\n",
      "Epoch 99/100\n",
      "109/109 [==============================] - 0s 165us/step - loss: 0.0613\n",
      "Epoch 100/100\n",
      "109/109 [==============================] - 0s 156us/step - loss: 0.0608\n"
     ]
    },
    {
     "data": {
      "text/plain": [
       "<keras.callbacks.callbacks.History at 0x11aab417cc8>"
      ]
     },
     "execution_count": 95,
     "metadata": {},
     "output_type": "execute_result"
    }
   ],
   "source": [
    "m.fit(x_train_white, y_train, epochs=100, batch_size=10)"
   ]
  },
  {
   "cell_type": "code",
   "execution_count": 96,
   "metadata": {},
   "outputs": [
    {
     "data": {
      "text/plain": [
       "array([[1., 4., 4., 3., 4., 3., 2., 3., 2., 2., 4., 4., 2., 3., 2., 1.,\n",
       "        3., 1., 3., 4., 4., 3., 4., 2., 2., 2., 4., 3., 4., 4., 3., 4.,\n",
       "        3., 2., 3., 3., 3., 2., 2., 4., 4., 1., 4., 4., 4., 2., 4.]],\n",
       "      dtype=float32)"
      ]
     },
     "execution_count": 96,
     "metadata": {},
     "output_type": "execute_result"
    }
   ],
   "source": [
    "x_test_white = scaler.transform(x_test)\n",
    "m.predict(x_test_white).round().T"
   ]
  },
  {
   "cell_type": "code",
   "execution_count": 97,
   "metadata": {},
   "outputs": [
    {
     "name": "stderr",
     "output_type": "stream",
     "text": [
      "C:\\ProgramData\\Anaconda3\\lib\\site-packages\\ipykernel_launcher.py:1: FutureWarning: Method .as_matrix will be removed in a future version. Use .values instead.\n",
      "  \"\"\"Entry point for launching an IPython kernel.\n"
     ]
    },
    {
     "data": {
      "text/plain": [
       "array([4., 1., 2., 2., 1., 3., 4., 2., 3., 4., 1., 2., 4., 2., 3., 4., 2.,\n",
       "       4., 2., 1., 1., 2., 1., 4., 4., 4., 2., 2., 2., 1., 3., 2., 2., 4.,\n",
       "       3., 2., 3., 4., 4., 2., 1., 4., 2., 2., 2., 4., 1.], dtype=float32)"
      ]
     },
     "execution_count": 97,
     "metadata": {},
     "output_type": "execute_result"
    }
   ],
   "source": [
    "y_test.as_matrix().astype(np.float32)"
   ]
  },
  {
   "cell_type": "code",
   "execution_count": 98,
   "metadata": {},
   "outputs": [
    {
     "name": "stdout",
     "output_type": "stream",
     "text": [
      "47/47 [==============================] - 0s 954us/step\n"
     ]
    },
    {
     "data": {
      "text/plain": [
       "4.662483428386932"
      ]
     },
     "execution_count": 98,
     "metadata": {},
     "output_type": "execute_result"
    }
   ],
   "source": [
    "m.evaluate(x_test_white, y_test)"
   ]
  },
  {
   "cell_type": "code",
   "execution_count": null,
   "metadata": {},
   "outputs": [],
   "source": []
  },
  {
   "cell_type": "code",
   "execution_count": null,
   "metadata": {},
   "outputs": [],
   "source": []
  }
 ],
 "metadata": {
  "kernelspec": {
   "display_name": "Python 3",
   "language": "python",
   "name": "python3"
  },
  "language_info": {
   "codemirror_mode": {
    "name": "ipython",
    "version": 3
   },
   "file_extension": ".py",
   "mimetype": "text/x-python",
   "name": "python",
   "nbconvert_exporter": "python",
   "pygments_lexer": "ipython3",
   "version": "3.7.5"
  }
 },
 "nbformat": 4,
 "nbformat_minor": 2
}
