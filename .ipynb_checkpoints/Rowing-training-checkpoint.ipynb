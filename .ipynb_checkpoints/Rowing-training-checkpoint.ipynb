{
 "cells": [
  {
   "cell_type": "markdown",
   "metadata": {},
   "source": [
    "# Rowing training\n",
    "## To investigate how training commitments effect your time on the Rowing Machine (ergo)\n",
    "\n",
    "### We will simulate data to show how three oarpeople attend training over the course of a year.\n",
    "### the data points we plan on collecting are :\n",
    "\n",
    "#### Rowing-number, Attendance (per week 1-4 days), age (13,15), Sex (m,f), Month, Ergo-time)\n",
    "\n"
   ]
  },
  {
   "cell_type": "markdown",
   "metadata": {},
   "source": [
    "# Gathering the Data.\n",
    "\n",
    "\n",
    "## We plan to generate the data using numpy.\n",
    "## We will have 52 data points for three different Rowing-numbers (156 datapoints in total)\n",
    "\n"
   ]
  },
  {
   "cell_type": "markdown",
   "metadata": {},
   "source": [
    "# What we hope to find.\n",
    "## The goal is to see how the ERGO TIME gets better if the rower (rowing-number) attends more training sessoin a week.\n"
   ]
  },
  {
   "cell_type": "code",
   "execution_count": null,
   "metadata": {},
   "outputs": [],
   "source": []
  }
 ],
 "metadata": {
  "kernelspec": {
   "display_name": "Python 3",
   "language": "python",
   "name": "python3"
  },
  "language_info": {
   "codemirror_mode": {
    "name": "ipython",
    "version": 3
   },
   "file_extension": ".py",
   "mimetype": "text/x-python",
   "name": "python",
   "nbconvert_exporter": "python",
   "pygments_lexer": "ipython3",
   "version": "3.7.3"
  }
 },
 "nbformat": 4,
 "nbformat_minor": 2
}
